{
 "cells": [
  {
   "cell_type": "code",
   "execution_count": null,
   "metadata": {},
   "outputs": [],
   "source": [
    "https://docs.smith.langchain.com/tutorials/Administrators/manage_spend\n",
    "https://langchain-ai.github.io/langgraphjs/\n",
    "https://langchain-ai.github.io/langgraphjs/#documentation"
   ]
  },
  {
   "cell_type": "code",
   "execution_count": 3,
   "metadata": {},
   "outputs": [
    {
     "name": "stdout",
     "output_type": "stream",
     "text": [
      "fetched 12087 characters from https://docs.smith.langchain.com/tutorials/Administrators/manage_spend\n",
      "fetched 12246 characters from https://langchain-ai.github.io/langgraphjs/\n",
      "fetched 12246 characters from https://langchain-ai.github.io/langgraphjs/#documentation\n"
     ]
    }
   ],
   "source": [
    "import threading\n",
    "import requests\n",
    "import bs4\n",
    "from bs4 import BeautifulSoup\n",
    "\n",
    "urls =[\n",
    "    \"https://docs.smith.langchain.com/tutorials/Administrators/manage_spend\",\n",
    "\"https://langchain-ai.github.io/langgraphjs/\",\n",
    "\"https://langchain-ai.github.io/langgraphjs/#documentation\"\n",
    "\n",
    "]\n",
    "\n",
    "def fetch_content(url):\n",
    "    response =requests.get(url)\n",
    "    soup=BeautifulSoup(response.content, 'html.parser')\n",
    "    print(f\"fetched {len(soup.text)} characters from {url}\")\n",
    "\n",
    "threads=[]\n",
    "\n",
    "for url in urls:\n",
    "    thread = threading.Thread(target=fetch_content,args=(url,))\n",
    "    threads.append(thread)\n",
    "    thread.start()\n"
   ]
  }
 ],
 "metadata": {
  "kernelspec": {
   "display_name": "Python 3",
   "language": "python",
   "name": "python3"
  },
  "language_info": {
   "codemirror_mode": {
    "name": "ipython",
    "version": 3
   },
   "file_extension": ".py",
   "mimetype": "text/x-python",
   "name": "python",
   "nbconvert_exporter": "python",
   "pygments_lexer": "ipython3",
   "version": "3.11.5"
  }
 },
 "nbformat": 4,
 "nbformat_minor": 2
}
